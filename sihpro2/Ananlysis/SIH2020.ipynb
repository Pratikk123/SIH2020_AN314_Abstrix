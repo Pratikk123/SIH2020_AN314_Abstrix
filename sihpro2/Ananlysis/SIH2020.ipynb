{
 "cells": [
  {
   "cell_type": "code",
   "execution_count": 7,
   "metadata": {},
   "outputs": [
    {
     "name": "stdout",
     "output_type": "stream",
     "text": [
      "         Location  Age  Gender  Bacteria  Level  Year  Detected_Cases\n",
      "0     Maharashtra   20    Male         1      1  2016            5000\n",
      "1     Maharashtra   20    Male         1      2  2016            7000\n",
      "2     Maharashtra   20    Male         1      3  2016            7000\n",
      "3     Maharashtra   20    Male         1      4  2016            2000\n",
      "4     Maharashtra   20    Male         1      1  2017            5000\n",
      "5     Maharashtra   20    Male         1      2  2017            7000\n",
      "6     Maharashtra   20    Male         1      3  2017            7000\n",
      "7     Maharashtra   20    Male         1      4  2017            2000\n",
      "8     Maharashtra   20    Male         1      1  2018            5000\n",
      "9     Maharashtra   20    Male         1      2  2018            7000\n",
      "10    Maharashtra   20    Male         1      3  2018            7000\n",
      "11    Maharashtra   20    Male         1      4  2018            2000\n",
      "12    Maharashtra   20    Male         1      1  2019            7000\n",
      "13    Maharashtra   20    Male         1      2  2019            8000\n",
      "14    Maharashtra   20    Male         1      3  2019           10000\n",
      "15    Maharashtra   20    Male         1      4  2019           10000\n",
      "16    Maharashtra   20    Male         1      1  2020           80000\n",
      "17    Maharashtra   20    Male         1      2  2020            9000\n",
      "18    Maharashtra   20    Male         1      3  2020           12000\n",
      "19    Maharashtra   20    Male         1      4  2020           12000\n",
      "20    Maharashtra   20    Male         2      1  2016            8000\n",
      "21    Maharashtra   20    Male         2      2  2016           10000\n",
      "22    Maharashtra   20    Male         2      3  2016           10000\n",
      "23    Maharashtra   20    Male         2      4  2016            5000\n",
      "24    Maharashtra   20    Male         2      1  2017            8000\n",
      "25    Maharashtra   20    Male         2      2  2017           10000\n",
      "26    Maharashtra   20    Male         2      3  2017           10000\n",
      "27    Maharashtra   20    Male         2      4  2017            5000\n",
      "28    Maharashtra   20    Male         2      1  2018            8000\n",
      "29    Maharashtra   20    Male         2      2  2018           10000\n",
      "...           ...  ...     ...       ...    ...   ...             ...\n",
      "7530      Gujarat   40  Female         2      3  2018           17000\n",
      "7531      Gujarat   40  Female         2      4  2018           12000\n",
      "7532      Gujarat   40  Female         2      1  2019           17000\n",
      "7533      Gujarat   40  Female         2      2  2019           18000\n",
      "7534      Gujarat   40  Female         2      3  2019           20000\n",
      "7535      Gujarat   40  Female         2      4  2019           20000\n",
      "7536      Gujarat   40  Female         2      1  2020           90000\n",
      "7537      Gujarat   40  Female         2      2  2020           19000\n",
      "7538      Gujarat   40  Female         2      3  2020           22000\n",
      "7539      Gujarat   40  Female         2      4  2020           22000\n",
      "7540      Gujarat   40  Female         3      1  2016           18000\n",
      "7541      Gujarat   40  Female         3      2  2016           20000\n",
      "7542      Gujarat   40  Female         3      3  2016           20000\n",
      "7543      Gujarat   40  Female         3      4  2016           15000\n",
      "7544      Gujarat   40  Female         3      1  2017           18000\n",
      "7545      Gujarat   40  Female         3      2  2017           20000\n",
      "7546      Gujarat   40  Female         3      3  2017           20000\n",
      "7547      Gujarat   40  Female         3      4  2017           15000\n",
      "7548      Gujarat   40  Female         3      1  2018           18000\n",
      "7549      Gujarat   40  Female         3      2  2018           20000\n",
      "7550      Gujarat   40  Female         3      3  2018           20000\n",
      "7551      Gujarat   40  Female         3      4  2018           15000\n",
      "7552      Gujarat   40  Female         3      1  2019           20000\n",
      "7553      Gujarat   40  Female         3      2  2019           21000\n",
      "7554      Gujarat   40  Female         3      3  2019           23000\n",
      "7555      Gujarat   40  Female         3      4  2019           23000\n",
      "7556      Gujarat   40  Female         3      1  2020           93000\n",
      "7557      Gujarat   40  Female         3      2  2020           22000\n",
      "7558      Gujarat   40  Female         3      3  2020           25000\n",
      "7559      Gujarat   40  Female         3      4  2020           25000\n",
      "\n",
      "[7560 rows x 7 columns]\n"
     ]
    }
   ],
   "source": [
    "import pandas as pd\n",
    "import numpy as np\n",
    "import pickle\n",
    "dataset=pd.read_csv('sih2020data.csv')\n",
    "print(dataset)"
   ]
  },
  {
   "cell_type": "code",
   "execution_count": 8,
   "metadata": {},
   "outputs": [],
   "source": [
    "#################general first case###########\n",
    "\n",
    "from sklearn import linear_model\n",
    "General1=linear_model.LinearRegression()\n",
    "General1.fit(dataset[['Bacteria','Level','Year']],dataset.Detected_Cases)\n",
    "\n",
    "\n",
    "def General(Bacteria,year):\n",
    "    x=[]\n",
    "    for level in range (1,5):       \n",
    "        x.append(reg5.predict([(Bacteria,level,year)])[0])\n",
    "    return x    \n"
   ]
  },
  {
   "cell_type": "code",
   "execution_count": 9,
   "metadata": {},
   "outputs": [
    {
     "ename": "NameError",
     "evalue": "name 'reg5' is not defined",
     "output_type": "error",
     "traceback": [
      "\u001b[1;31m---------------------------------------------------------------------------\u001b[0m",
      "\u001b[1;31mNameError\u001b[0m                                 Traceback (most recent call last)",
      "\u001b[1;32m<ipython-input-9-3f527803487c>\u001b[0m in \u001b[0;36m<module>\u001b[1;34m\u001b[0m\n\u001b[1;32m----> 1\u001b[1;33m \u001b[0mresult\u001b[0m\u001b[1;33m=\u001b[0m\u001b[0mGeneral\u001b[0m\u001b[1;33m(\u001b[0m\u001b[1;36m1\u001b[0m\u001b[1;33m,\u001b[0m\u001b[1;36m2021\u001b[0m\u001b[1;33m)\u001b[0m\u001b[1;33m\u001b[0m\u001b[1;33m\u001b[0m\u001b[0m\n\u001b[0m\u001b[0;32m      2\u001b[0m \u001b[0mprint\u001b[0m\u001b[1;33m(\u001b[0m\u001b[0mresult\u001b[0m\u001b[1;33m)\u001b[0m\u001b[1;33m\u001b[0m\u001b[1;33m\u001b[0m\u001b[0m\n",
      "\u001b[1;32m<ipython-input-8-75f8cd4ffa64>\u001b[0m in \u001b[0;36mGeneral\u001b[1;34m(Bacteria, year)\u001b[0m\n\u001b[0;32m      9\u001b[0m     \u001b[0mx\u001b[0m\u001b[1;33m=\u001b[0m\u001b[1;33m[\u001b[0m\u001b[1;33m]\u001b[0m\u001b[1;33m\u001b[0m\u001b[1;33m\u001b[0m\u001b[0m\n\u001b[0;32m     10\u001b[0m     \u001b[1;32mfor\u001b[0m \u001b[0mlevel\u001b[0m \u001b[1;32min\u001b[0m \u001b[0mrange\u001b[0m \u001b[1;33m(\u001b[0m\u001b[1;36m1\u001b[0m\u001b[1;33m,\u001b[0m\u001b[1;36m5\u001b[0m\u001b[1;33m)\u001b[0m\u001b[1;33m:\u001b[0m\u001b[1;33m\u001b[0m\u001b[1;33m\u001b[0m\u001b[0m\n\u001b[1;32m---> 11\u001b[1;33m         \u001b[0mx\u001b[0m\u001b[1;33m.\u001b[0m\u001b[0mappend\u001b[0m\u001b[1;33m(\u001b[0m\u001b[0mreg5\u001b[0m\u001b[1;33m.\u001b[0m\u001b[0mpredict\u001b[0m\u001b[1;33m(\u001b[0m\u001b[1;33m[\u001b[0m\u001b[1;33m(\u001b[0m\u001b[0mBacteria\u001b[0m\u001b[1;33m,\u001b[0m\u001b[0mlevel\u001b[0m\u001b[1;33m,\u001b[0m\u001b[0myear\u001b[0m\u001b[1;33m)\u001b[0m\u001b[1;33m]\u001b[0m\u001b[1;33m)\u001b[0m\u001b[1;33m[\u001b[0m\u001b[1;36m0\u001b[0m\u001b[1;33m]\u001b[0m\u001b[1;33m)\u001b[0m\u001b[1;33m\u001b[0m\u001b[1;33m\u001b[0m\u001b[0m\n\u001b[0m\u001b[0;32m     12\u001b[0m     \u001b[1;32mreturn\u001b[0m \u001b[0mx\u001b[0m\u001b[1;33m\u001b[0m\u001b[1;33m\u001b[0m\u001b[0m\n",
      "\u001b[1;31mNameError\u001b[0m: name 'reg5' is not defined"
     ]
    }
   ],
   "source": [
    "result=General(1,2021)\n",
    "print(result)"
   ]
  },
  {
   "cell_type": "code",
   "execution_count": 11,
   "metadata": {},
   "outputs": [],
   "source": [
    "filename = 'General1.sav'\n",
    "pickle.dump(General1, open(filename, 'wb'))"
   ]
  },
  {
   "cell_type": "code",
   "execution_count": 12,
   "metadata": {},
   "outputs": [],
   "source": [
    "Location1=linear_model.LinearRegression()\n",
    "location=dataset['Location']==\"Maharashtra\"\n",
    "\n",
    "dataset_filtered=dataset[location]\n",
    "\n",
    "Location1.fit(dataset_filtered[['Bacteria','Level','Year']],dataset_filtered.Detected_Cases)\n",
    "def Location1Fun(Bacteria,year):\n",
    "    x=[]\n",
    "    for level in range (1,5):       \n",
    "        x.append(Location1.predict([(Bacteria,level,year)])[0])\n",
    "    return x    \n",
    "    \n",
    "    \n",
    "        "
   ]
  },
  {
   "cell_type": "code",
   "execution_count": 13,
   "metadata": {},
   "outputs": [],
   "source": [
    "filename = 'Location1.sav'\n",
    "pickle.dump(Location1, open(filename, 'wb'))"
   ]
  },
  {
   "cell_type": "code",
   "execution_count": 14,
   "metadata": {},
   "outputs": [
    {
     "name": "stdout",
     "output_type": "stream",
     "text": [
      "[32052.857142856345, 27712.857142856345, 23372.857142856345, 19032.857142856345]\n"
     ]
    }
   ],
   "source": [
    "result=Location1Fun(1,2021)\n",
    "print(result)"
   ]
  },
  {
   "cell_type": "code",
   "execution_count": 15,
   "metadata": {},
   "outputs": [],
   "source": [
    "Location2=linear_model.LinearRegression()\n",
    "location=dataset['Location']==\"Karnataka\"\n",
    "dataset_filtered=dataset[location]\n",
    "\n",
    "Location2.fit(dataset_filtered[['Bacteria','Level','Year']],dataset_filtered.Detected_Cases)\n",
    "def Location2Fun(Bacteria,year):\n",
    "    x=[]\n",
    "    for level in range (1,5):       \n",
    "        x.append(Location2.predict([(Bacteria,level,year)])[0])\n",
    "    return x   \n"
   ]
  },
  {
   "cell_type": "code",
   "execution_count": 16,
   "metadata": {},
   "outputs": [
    {
     "name": "stdout",
     "output_type": "stream",
     "text": [
      "[37052.857142856345, 32712.857142856345, 28372.857142856345, 24032.857142856345]\n"
     ]
    }
   ],
   "source": [
    "result=Location2Fun(1,2021)\n",
    "print(result)"
   ]
  },
  {
   "cell_type": "code",
   "execution_count": 17,
   "metadata": {},
   "outputs": [],
   "source": [
    "filename = 'Location2.sav'\n",
    "pickle.dump(Location2, open(filename, 'wb'))"
   ]
  },
  {
   "cell_type": "code",
   "execution_count": null,
   "metadata": {},
   "outputs": [],
   "source": []
  },
  {
   "cell_type": "code",
   "execution_count": 18,
   "metadata": {},
   "outputs": [
    {
     "name": "stdout",
     "output_type": "stream",
     "text": [
      "     Location  Age  Gender  Bacteria  Level  Year  Detected_Cases\n",
      "5040  Gujarat   20    Male         1      1  2016           12000\n",
      "5041  Gujarat   20    Male         1      2  2016           14000\n",
      "5042  Gujarat   20    Male         1      3  2016           14000\n",
      "5043  Gujarat   20    Male         1      4  2016            9000\n",
      "5044  Gujarat   20    Male         1      1  2017           12000\n",
      "5045  Gujarat   20    Male         1      2  2017           14000\n",
      "5046  Gujarat   20    Male         1      3  2017           14000\n",
      "5047  Gujarat   20    Male         1      4  2017            9000\n",
      "5048  Gujarat   20    Male         1      1  2018           12000\n",
      "5049  Gujarat   20    Male         1      2  2018           14000\n",
      "5050  Gujarat   20    Male         1      3  2018           14000\n",
      "5051  Gujarat   20    Male         1      4  2018            9000\n",
      "5052  Gujarat   20    Male         1      1  2019           14000\n",
      "5053  Gujarat   20    Male         1      2  2019           15000\n",
      "5054  Gujarat   20    Male         1      3  2019           17000\n",
      "5055  Gujarat   20    Male         1      4  2019           17000\n",
      "5056  Gujarat   20    Male         1      1  2020           87000\n",
      "5057  Gujarat   20    Male         1      2  2020           16000\n",
      "5058  Gujarat   20    Male         1      3  2020           19000\n",
      "5059  Gujarat   20    Male         1      4  2020           19000\n",
      "5060  Gujarat   20    Male         2      1  2016           15000\n",
      "5061  Gujarat   20    Male         2      2  2016           17000\n",
      "5062  Gujarat   20    Male         2      3  2016           17000\n",
      "5063  Gujarat   20    Male         2      4  2016           12000\n",
      "5064  Gujarat   20    Male         2      1  2017           15000\n",
      "5065  Gujarat   20    Male         2      2  2017           17000\n",
      "5066  Gujarat   20    Male         2      3  2017           17000\n",
      "5067  Gujarat   20    Male         2      4  2017           12000\n",
      "5068  Gujarat   20    Male         2      1  2018           15000\n",
      "5069  Gujarat   20    Male         2      2  2018           17000\n",
      "...       ...  ...     ...       ...    ...   ...             ...\n",
      "7530  Gujarat   40  Female         2      3  2018           17000\n",
      "7531  Gujarat   40  Female         2      4  2018           12000\n",
      "7532  Gujarat   40  Female         2      1  2019           17000\n",
      "7533  Gujarat   40  Female         2      2  2019           18000\n",
      "7534  Gujarat   40  Female         2      3  2019           20000\n",
      "7535  Gujarat   40  Female         2      4  2019           20000\n",
      "7536  Gujarat   40  Female         2      1  2020           90000\n",
      "7537  Gujarat   40  Female         2      2  2020           19000\n",
      "7538  Gujarat   40  Female         2      3  2020           22000\n",
      "7539  Gujarat   40  Female         2      4  2020           22000\n",
      "7540  Gujarat   40  Female         3      1  2016           18000\n",
      "7541  Gujarat   40  Female         3      2  2016           20000\n",
      "7542  Gujarat   40  Female         3      3  2016           20000\n",
      "7543  Gujarat   40  Female         3      4  2016           15000\n",
      "7544  Gujarat   40  Female         3      1  2017           18000\n",
      "7545  Gujarat   40  Female         3      2  2017           20000\n",
      "7546  Gujarat   40  Female         3      3  2017           20000\n",
      "7547  Gujarat   40  Female         3      4  2017           15000\n",
      "7548  Gujarat   40  Female         3      1  2018           18000\n",
      "7549  Gujarat   40  Female         3      2  2018           20000\n",
      "7550  Gujarat   40  Female         3      3  2018           20000\n",
      "7551  Gujarat   40  Female         3      4  2018           15000\n",
      "7552  Gujarat   40  Female         3      1  2019           20000\n",
      "7553  Gujarat   40  Female         3      2  2019           21000\n",
      "7554  Gujarat   40  Female         3      3  2019           23000\n",
      "7555  Gujarat   40  Female         3      4  2019           23000\n",
      "7556  Gujarat   40  Female         3      1  2020           93000\n",
      "7557  Gujarat   40  Female         3      2  2020           22000\n",
      "7558  Gujarat   40  Female         3      3  2020           25000\n",
      "7559  Gujarat   40  Female         3      4  2020           25000\n",
      "\n",
      "[2520 rows x 7 columns]\n"
     ]
    }
   ],
   "source": [
    "Location3=linear_model.LinearRegression()\n",
    "location=dataset['Location']==\"Gujarat\"\n",
    "dataset_filtered=dataset[location]\n",
    "print(dataset_filtered)\n",
    "Location3.fit(dataset_filtered[['Bacteria','Level','Year']],dataset_filtered.Detected_Cases)\n",
    "def Location3Fun(Bacteria,year):\n",
    "    x=[]\n",
    "    for level in range (1,5):       \n",
    "        x.append(Location3.predict([(Bacteria,level,year)])[0])\n",
    "    return x   \n"
   ]
  },
  {
   "cell_type": "code",
   "execution_count": 19,
   "metadata": {},
   "outputs": [
    {
     "name": "stdout",
     "output_type": "stream",
     "text": [
      "[39052.857142856345, 34712.857142856345, 30372.857142856345, 26032.857142856345]\n"
     ]
    }
   ],
   "source": [
    "result=Location3Fun(1,2021)\n",
    "print(result)"
   ]
  },
  {
   "cell_type": "code",
   "execution_count": 20,
   "metadata": {},
   "outputs": [],
   "source": [
    "filename = 'Location3.sav'\n",
    "pickle.dump(Location3, open(filename, 'wb'))"
   ]
  },
  {
   "cell_type": "code",
   "execution_count": null,
   "metadata": {},
   "outputs": [],
   "source": []
  },
  {
   "cell_type": "code",
   "execution_count": 91,
   "metadata": {},
   "outputs": [
    {
     "name": "stdout",
     "output_type": "stream",
     "text": [
      "         Location  Age  Gender  Bacteria  Level  Year  Detected_Cases\n",
      "0     Maharashtra   20       1         1      1  2016            5000\n",
      "1     Maharashtra   20       1         1      2  2016            7000\n",
      "2     Maharashtra   20       1         1      3  2016            7000\n",
      "3     Maharashtra   20       1         1      4  2016            2000\n",
      "4     Maharashtra   20       1         1      1  2017            5000\n",
      "5     Maharashtra   20       1         1      2  2017            7000\n",
      "6     Maharashtra   20       1         1      3  2017            7000\n",
      "7     Maharashtra   20       1         1      4  2017            2000\n",
      "8     Maharashtra   20       1         1      1  2018            5000\n",
      "9     Maharashtra   20       1         1      2  2018            7000\n",
      "10    Maharashtra   20       1         1      3  2018            7000\n",
      "11    Maharashtra   20       1         1      4  2018            2000\n",
      "12    Maharashtra   20       1         1      1  2019            7000\n",
      "13    Maharashtra   20       1         1      2  2019            8000\n",
      "14    Maharashtra   20       1         1      3  2019           10000\n",
      "15    Maharashtra   20       1         1      4  2019           10000\n",
      "16    Maharashtra   20       1         1      1  2020           80000\n",
      "17    Maharashtra   20       1         1      2  2020            9000\n",
      "18    Maharashtra   20       1         1      3  2020           12000\n",
      "19    Maharashtra   20       1         1      4  2020           12000\n",
      "20    Maharashtra   20       1         2      1  2016            8000\n",
      "21    Maharashtra   20       1         2      2  2016           10000\n",
      "22    Maharashtra   20       1         2      3  2016           10000\n",
      "23    Maharashtra   20       1         2      4  2016            5000\n",
      "24    Maharashtra   20       1         2      1  2017            8000\n",
      "25    Maharashtra   20       1         2      2  2017           10000\n",
      "26    Maharashtra   20       1         2      3  2017           10000\n",
      "27    Maharashtra   20       1         2      4  2017            5000\n",
      "28    Maharashtra   20       1         2      1  2018            8000\n",
      "29    Maharashtra   20       1         2      2  2018           10000\n",
      "...           ...  ...     ...       ...    ...   ...             ...\n",
      "7530      Gujarat   40       0         2      3  2018           17000\n",
      "7531      Gujarat   40       0         2      4  2018           12000\n",
      "7532      Gujarat   40       0         2      1  2019           17000\n",
      "7533      Gujarat   40       0         2      2  2019           18000\n",
      "7534      Gujarat   40       0         2      3  2019           20000\n",
      "7535      Gujarat   40       0         2      4  2019           20000\n",
      "7536      Gujarat   40       0         2      1  2020           90000\n",
      "7537      Gujarat   40       0         2      2  2020           19000\n",
      "7538      Gujarat   40       0         2      3  2020           22000\n",
      "7539      Gujarat   40       0         2      4  2020           22000\n",
      "7540      Gujarat   40       0         3      1  2016           18000\n",
      "7541      Gujarat   40       0         3      2  2016           20000\n",
      "7542      Gujarat   40       0         3      3  2016           20000\n",
      "7543      Gujarat   40       0         3      4  2016           15000\n",
      "7544      Gujarat   40       0         3      1  2017           18000\n",
      "7545      Gujarat   40       0         3      2  2017           20000\n",
      "7546      Gujarat   40       0         3      3  2017           20000\n",
      "7547      Gujarat   40       0         3      4  2017           15000\n",
      "7548      Gujarat   40       0         3      1  2018           18000\n",
      "7549      Gujarat   40       0         3      2  2018           20000\n",
      "7550      Gujarat   40       0         3      3  2018           20000\n",
      "7551      Gujarat   40       0         3      4  2018           15000\n",
      "7552      Gujarat   40       0         3      1  2019           20000\n",
      "7553      Gujarat   40       0         3      2  2019           21000\n",
      "7554      Gujarat   40       0         3      3  2019           23000\n",
      "7555      Gujarat   40       0         3      4  2019           23000\n",
      "7556      Gujarat   40       0         3      1  2020           93000\n",
      "7557      Gujarat   40       0         3      2  2020           22000\n",
      "7558      Gujarat   40       0         3      3  2020           25000\n",
      "7559      Gujarat   40       0         3      4  2020           25000\n",
      "\n",
      "[7560 rows x 7 columns]\n"
     ]
    },
    {
     "data": {
      "text/plain": [
       "array([31888.29013947])"
      ]
     },
     "execution_count": 91,
     "metadata": {},
     "output_type": "execute_result"
    }
   ],
   "source": [
    "Age=linear_model.LinearRegression()\n",
    "print(dataset)\n",
    "Age.fit(dataset[['Age','Bacteria','Level','Year']],dataset.Detected_Cases)\n",
    "\n",
    "Age.predict([(40,1,1,2020)])"
   ]
  },
  {
   "cell_type": "code",
   "execution_count": 22,
   "metadata": {},
   "outputs": [],
   "source": [
    "filename = 'Age.sav'\n",
    "pickle.dump(Age, open(filename, 'wb'))"
   ]
  },
  {
   "cell_type": "code",
   "execution_count": null,
   "metadata": {},
   "outputs": [],
   "source": []
  },
  {
   "cell_type": "code",
   "execution_count": 79,
   "metadata": {},
   "outputs": [
    {
     "name": "stdout",
     "output_type": "stream",
     "text": [
      "         Location  Age  Gender  Bacteria  Level  Year  Detected_Cases\n",
      "0     Maharashtra   20       1         1      1  2016            5000\n",
      "1     Maharashtra   20       1         1      2  2016            7000\n",
      "2     Maharashtra   20       1         1      3  2016            7000\n",
      "3     Maharashtra   20       1         1      4  2016            2000\n",
      "4     Maharashtra   20       1         1      1  2017            5000\n",
      "5     Maharashtra   20       1         1      2  2017            7000\n",
      "6     Maharashtra   20       1         1      3  2017            7000\n",
      "7     Maharashtra   20       1         1      4  2017            2000\n",
      "8     Maharashtra   20       1         1      1  2018            5000\n",
      "9     Maharashtra   20       1         1      2  2018            7000\n",
      "10    Maharashtra   20       1         1      3  2018            7000\n",
      "11    Maharashtra   20       1         1      4  2018            2000\n",
      "12    Maharashtra   20       1         1      1  2019            7000\n",
      "13    Maharashtra   20       1         1      2  2019            8000\n",
      "14    Maharashtra   20       1         1      3  2019           10000\n",
      "15    Maharashtra   20       1         1      4  2019           10000\n",
      "16    Maharashtra   20       1         1      1  2020           80000\n",
      "17    Maharashtra   20       1         1      2  2020            9000\n",
      "18    Maharashtra   20       1         1      3  2020           12000\n",
      "19    Maharashtra   20       1         1      4  2020           12000\n",
      "20    Maharashtra   20       1         2      1  2016            8000\n",
      "21    Maharashtra   20       1         2      2  2016           10000\n",
      "22    Maharashtra   20       1         2      3  2016           10000\n",
      "23    Maharashtra   20       1         2      4  2016            5000\n",
      "24    Maharashtra   20       1         2      1  2017            8000\n",
      "25    Maharashtra   20       1         2      2  2017           10000\n",
      "26    Maharashtra   20       1         2      3  2017           10000\n",
      "27    Maharashtra   20       1         2      4  2017            5000\n",
      "28    Maharashtra   20       1         2      1  2018            8000\n",
      "29    Maharashtra   20       1         2      2  2018           10000\n",
      "...           ...  ...     ...       ...    ...   ...             ...\n",
      "7530      Gujarat   40       0         2      3  2018           17000\n",
      "7531      Gujarat   40       0         2      4  2018           12000\n",
      "7532      Gujarat   40       0         2      1  2019           17000\n",
      "7533      Gujarat   40       0         2      2  2019           18000\n",
      "7534      Gujarat   40       0         2      3  2019           20000\n",
      "7535      Gujarat   40       0         2      4  2019           20000\n",
      "7536      Gujarat   40       0         2      1  2020           90000\n",
      "7537      Gujarat   40       0         2      2  2020           19000\n",
      "7538      Gujarat   40       0         2      3  2020           22000\n",
      "7539      Gujarat   40       0         2      4  2020           22000\n",
      "7540      Gujarat   40       0         3      1  2016           18000\n",
      "7541      Gujarat   40       0         3      2  2016           20000\n",
      "7542      Gujarat   40       0         3      3  2016           20000\n",
      "7543      Gujarat   40       0         3      4  2016           15000\n",
      "7544      Gujarat   40       0         3      1  2017           18000\n",
      "7545      Gujarat   40       0         3      2  2017           20000\n",
      "7546      Gujarat   40       0         3      3  2017           20000\n",
      "7547      Gujarat   40       0         3      4  2017           15000\n",
      "7548      Gujarat   40       0         3      1  2018           18000\n",
      "7549      Gujarat   40       0         3      2  2018           20000\n",
      "7550      Gujarat   40       0         3      3  2018           20000\n",
      "7551      Gujarat   40       0         3      4  2018           15000\n",
      "7552      Gujarat   40       0         3      1  2019           20000\n",
      "7553      Gujarat   40       0         3      2  2019           21000\n",
      "7554      Gujarat   40       0         3      3  2019           23000\n",
      "7555      Gujarat   40       0         3      4  2019           23000\n",
      "7556      Gujarat   40       0         3      1  2020           93000\n",
      "7557      Gujarat   40       0         3      2  2020           22000\n",
      "7558      Gujarat   40       0         3      3  2020           25000\n",
      "7559      Gujarat   40       0         3      4  2020           25000\n",
      "\n",
      "[7560 rows x 7 columns]\n"
     ]
    },
    {
     "data": {
      "text/plain": [
       "array([32102.85714286])"
      ]
     },
     "execution_count": 79,
     "metadata": {},
     "output_type": "execute_result"
    }
   ],
   "source": [
    "Gender=linear_model.LinearRegression()\n",
    "dataset['Gender']= le.fit_transform(dataset['Gender']) \n",
    "Gender.fit(dataset[['Gender','Bacteria','Level','Year']],dataset.Detected_Cases)\n",
    "print(dataset)\n",
    "Gender.predict([(1,1,1,2020)])"
   ]
  },
  {
   "cell_type": "code",
   "execution_count": 24,
   "metadata": {},
   "outputs": [],
   "source": [
    "filename = 'Gender.sav'\n",
    "pickle.dump(Gender, open(filename, 'wb'))"
   ]
  },
  {
   "cell_type": "code",
   "execution_count": null,
   "metadata": {},
   "outputs": [],
   "source": []
  },
  {
   "cell_type": "code",
   "execution_count": 25,
   "metadata": {},
   "outputs": [
    {
     "name": "stdout",
     "output_type": "stream",
     "text": [
      "         Location  Age  Gender  Bacteria  Level  Year  Detected_Cases\n",
      "0     Maharashtra   20    Male         1      1  2016            5000\n",
      "1     Maharashtra   20    Male         1      2  2016            7000\n",
      "2     Maharashtra   20    Male         1      3  2016            7000\n",
      "3     Maharashtra   20    Male         1      4  2016            2000\n",
      "4     Maharashtra   20    Male         1      1  2017            5000\n",
      "5     Maharashtra   20    Male         1      2  2017            7000\n",
      "6     Maharashtra   20    Male         1      3  2017            7000\n",
      "7     Maharashtra   20    Male         1      4  2017            2000\n",
      "8     Maharashtra   20    Male         1      1  2018            5000\n",
      "9     Maharashtra   20    Male         1      2  2018            7000\n",
      "10    Maharashtra   20    Male         1      3  2018            7000\n",
      "11    Maharashtra   20    Male         1      4  2018            2000\n",
      "12    Maharashtra   20    Male         1      1  2019            7000\n",
      "13    Maharashtra   20    Male         1      2  2019            8000\n",
      "14    Maharashtra   20    Male         1      3  2019           10000\n",
      "15    Maharashtra   20    Male         1      4  2019           10000\n",
      "16    Maharashtra   20    Male         1      1  2020           80000\n",
      "17    Maharashtra   20    Male         1      2  2020            9000\n",
      "18    Maharashtra   20    Male         1      3  2020           12000\n",
      "19    Maharashtra   20    Male         1      4  2020           12000\n",
      "20    Maharashtra   20    Male         2      1  2016            8000\n",
      "21    Maharashtra   20    Male         2      2  2016           10000\n",
      "22    Maharashtra   20    Male         2      3  2016           10000\n",
      "23    Maharashtra   20    Male         2      4  2016            5000\n",
      "24    Maharashtra   20    Male         2      1  2017            8000\n",
      "25    Maharashtra   20    Male         2      2  2017           10000\n",
      "26    Maharashtra   20    Male         2      3  2017           10000\n",
      "27    Maharashtra   20    Male         2      4  2017            5000\n",
      "28    Maharashtra   20    Male         2      1  2018            8000\n",
      "29    Maharashtra   20    Male         2      2  2018           10000\n",
      "...           ...  ...     ...       ...    ...   ...             ...\n",
      "7530      Gujarat   40  Female         2      3  2018           17000\n",
      "7531      Gujarat   40  Female         2      4  2018           12000\n",
      "7532      Gujarat   40  Female         2      1  2019           17000\n",
      "7533      Gujarat   40  Female         2      2  2019           18000\n",
      "7534      Gujarat   40  Female         2      3  2019           20000\n",
      "7535      Gujarat   40  Female         2      4  2019           20000\n",
      "7536      Gujarat   40  Female         2      1  2020           90000\n",
      "7537      Gujarat   40  Female         2      2  2020           19000\n",
      "7538      Gujarat   40  Female         2      3  2020           22000\n",
      "7539      Gujarat   40  Female         2      4  2020           22000\n",
      "7540      Gujarat   40  Female         3      1  2016           18000\n",
      "7541      Gujarat   40  Female         3      2  2016           20000\n",
      "7542      Gujarat   40  Female         3      3  2016           20000\n",
      "7543      Gujarat   40  Female         3      4  2016           15000\n",
      "7544      Gujarat   40  Female         3      1  2017           18000\n",
      "7545      Gujarat   40  Female         3      2  2017           20000\n",
      "7546      Gujarat   40  Female         3      3  2017           20000\n",
      "7547      Gujarat   40  Female         3      4  2017           15000\n",
      "7548      Gujarat   40  Female         3      1  2018           18000\n",
      "7549      Gujarat   40  Female         3      2  2018           20000\n",
      "7550      Gujarat   40  Female         3      3  2018           20000\n",
      "7551      Gujarat   40  Female         3      4  2018           15000\n",
      "7552      Gujarat   40  Female         3      1  2019           20000\n",
      "7553      Gujarat   40  Female         3      2  2019           21000\n",
      "7554      Gujarat   40  Female         3      3  2019           23000\n",
      "7555      Gujarat   40  Female         3      4  2019           23000\n",
      "7556      Gujarat   40  Female         3      1  2020           93000\n",
      "7557      Gujarat   40  Female         3      2  2020           22000\n",
      "7558      Gujarat   40  Female         3      3  2020           25000\n",
      "7559      Gujarat   40  Female         3      4  2020           25000\n",
      "\n",
      "[7560 rows x 7 columns]\n",
      "[]\n",
      "[]\n",
      "[]\n",
      "[]\n"
     ]
    }
   ],
   "source": [
    "Charts=linear_model.LinearRegression()\n",
    "print(dataset)\n",
    "Charts.fit(dataset[['Bacteria','Level','Year']],dataset.Detected_Cases)\n",
    "l1=[]\n",
    "l2=[]\n",
    "l3=[]\n",
    "l4=[]\n",
    "Charts.predict([(1,1,2020)])\n",
    "\n",
    "def chartsInLevels(Bacteria,startYear,endYear):\n",
    "    for years in range(startYear,endYear):\n",
    "        for levels in range (1,5):\n",
    "        \n",
    "            if(levels==1):\n",
    "                l1.append(int(Charts.predict([(Bacteria,levels,years)])[0]))\n",
    "            elif(levels==2):\n",
    "                l2.append(int(Charts.predict([(Bacteria,levels,years)])[0]))\n",
    "            elif(levels==3):\n",
    "                l3.append(int(Charts.predict([(Bacteria,levels,years)])[0])) \n",
    "            else:\n",
    "                l4.append(int(Charts.predict([(Bacteria,levels,years)])[0])) \n",
    "            \n",
    "            \n",
    "            \n",
    "print(l1)\n",
    "print(l2)\n",
    "print(l3)\n",
    "print(l4)"
   ]
  },
  {
   "cell_type": "code",
   "execution_count": 26,
   "metadata": {},
   "outputs": [
    {
     "name": "stdout",
     "output_type": "stream",
     "text": [
      "[31102, 36052, 41002, 45952, 50902, 55852, 60802, 65752, 70702, 75652]\n",
      "[26762, 31712, 36662, 41612, 46562, 51512, 56462, 61412, 66362, 71312]\n",
      "[22422, 27372, 32322, 37272, 42222, 47172, 52122, 57072, 62022, 66972]\n",
      "[18082, 23032, 27982, 32932, 37882, 42832, 47782, 52732, 57682, 62632]\n"
     ]
    }
   ],
   "source": [
    "chartsInLevels(1,2020,2030)\n",
    "            \n",
    "print(l1)\n",
    "print(l2)\n",
    "print(l3)\n",
    "print(l4)"
   ]
  },
  {
   "cell_type": "code",
   "execution_count": 27,
   "metadata": {},
   "outputs": [],
   "source": [
    "filename = 'Charts.sav'\n",
    "pickle.dump(Charts, open(filename, 'wb'))"
   ]
  },
  {
   "cell_type": "code",
   "execution_count": null,
   "metadata": {},
   "outputs": [],
   "source": []
  },
  {
   "cell_type": "code",
   "execution_count": 75,
   "metadata": {},
   "outputs": [
    {
     "name": "stdout",
     "output_type": "stream",
     "text": [
      "   Antibiotics  Year  Efficiency\n",
      "0        ABBL1  2014        0.90\n",
      "1        ABBL2  2014        0.80\n",
      "2        ABBL3  2014        0.95\n",
      "3        ABBL4  2014        0.97\n",
      "4        ABBL1  2015        0.85\n",
      "5        ABBL2  2015        0.70\n",
      "6        ABBL3  2015        0.93\n",
      "7        ABBL4  2015        0.95\n",
      "8        ABBL1  2016        0.75\n",
      "9        ABBL2  2016        0.65\n",
      "10       ABBL3  2016        0.90\n",
      "11       ABBL4  2016        0.95\n",
      "12       ABBL1  2017        0.65\n",
      "13       ABBL2  2017        0.55\n",
      "14       ABBL3  2017        0.87\n",
      "15       ABBL4  2017        0.93\n",
      "16       ABBL1  2018        0.55\n",
      "17       ABBL2  2018        0.45\n",
      "18       ABBL3  2018        0.85\n",
      "19       ABBL4  2018        0.91\n",
      "20       ABBL1  2019        0.45\n",
      "21       ABBL2  2019        0.45\n",
      "22       ABBL3  2019        0.82\n",
      "23       ABBL4  2019        0.88\n",
      "24       ABBL1  2020        0.35\n",
      "25       ABBL2  2020        0.45\n",
      "26       ABBL3  2020        0.80\n",
      "27       ABBL4  2020        0.85\n"
     ]
    }
   ],
   "source": [
    "datasetEf=pd.read_csv('sih2020dEfficiencyata.csv')\n",
    "print(datasetEf)"
   ]
  },
  {
   "cell_type": "code",
   "execution_count": 76,
   "metadata": {},
   "outputs": [],
   "source": [
    "Efficiency=linear_model.LinearRegression()\n"
   ]
  },
  {
   "cell_type": "code",
   "execution_count": 77,
   "metadata": {},
   "outputs": [
    {
     "data": {
      "text/plain": [
       "array([0.18057143])"
      ]
     },
     "execution_count": 77,
     "metadata": {},
     "output_type": "execute_result"
    }
   ],
   "source": [
    "from sklearn import preprocessing\n",
    "le = preprocessing.LabelEncoder()\n",
    "##dataset_filtered1=datasetEf[anti]\n",
    "##print(dataset_filtered1)\n",
    "datasetEf['Antibiotics']= le.fit_transform(datasetEf['Antibiotics']) \n",
    "\n",
    "Efficiency.fit(datasetEf[['Antibiotics','Year']],datasetEf.Efficiency)\n",
    "Efficiency.predict([(0,2025)])"
   ]
  },
  {
   "cell_type": "code",
   "execution_count": 78,
   "metadata": {},
   "outputs": [],
   "source": [
    "filename = 'Efficiency.sav'\n",
    "pickle.dump(Efficiency, open(filename, 'wb'))"
   ]
  },
  {
   "cell_type": "code",
   "execution_count": null,
   "metadata": {},
   "outputs": [],
   "source": []
  },
  {
   "cell_type": "code",
   "execution_count": null,
   "metadata": {},
   "outputs": [],
   "source": []
  },
  {
   "cell_type": "code",
   "execution_count": 178,
   "metadata": {},
   "outputs": [
    {
     "name": "stdout",
     "output_type": "stream",
     "text": [
      "Empty DataFrame\n",
      "Columns: [Location, Age , Gender, Bacteria, Level, Year, Detected_Cases]\n",
      "Index: []\n"
     ]
    }
   ],
   "source": [
    "location=dataset['Location']==\"\"\n",
    "dataset_filtered=dataset[location]\n",
    "print(dataset_filtered)"
   ]
  },
  {
   "cell_type": "code",
   "execution_count": 83,
   "metadata": {},
   "outputs": [
    {
     "ename": "KeyError",
     "evalue": "'Location'",
     "output_type": "error",
     "traceback": [
      "\u001b[1;31m---------------------------------------------------------------------------\u001b[0m",
      "\u001b[1;31mKeyError\u001b[0m                                  Traceback (most recent call last)",
      "\u001b[1;32mF:\\anaconda\\lib\\site-packages\\pandas\\core\\indexes\\base.py\u001b[0m in \u001b[0;36mget_loc\u001b[1;34m(self, key, method, tolerance)\u001b[0m\n\u001b[0;32m   2656\u001b[0m             \u001b[1;32mtry\u001b[0m\u001b[1;33m:\u001b[0m\u001b[1;33m\u001b[0m\u001b[1;33m\u001b[0m\u001b[0m\n\u001b[1;32m-> 2657\u001b[1;33m                 \u001b[1;32mreturn\u001b[0m \u001b[0mself\u001b[0m\u001b[1;33m.\u001b[0m\u001b[0m_engine\u001b[0m\u001b[1;33m.\u001b[0m\u001b[0mget_loc\u001b[0m\u001b[1;33m(\u001b[0m\u001b[0mkey\u001b[0m\u001b[1;33m)\u001b[0m\u001b[1;33m\u001b[0m\u001b[1;33m\u001b[0m\u001b[0m\n\u001b[0m\u001b[0;32m   2658\u001b[0m             \u001b[1;32mexcept\u001b[0m \u001b[0mKeyError\u001b[0m\u001b[1;33m:\u001b[0m\u001b[1;33m\u001b[0m\u001b[1;33m\u001b[0m\u001b[0m\n",
      "\u001b[1;32mpandas/_libs/index.pyx\u001b[0m in \u001b[0;36mpandas._libs.index.IndexEngine.get_loc\u001b[1;34m()\u001b[0m\n",
      "\u001b[1;32mpandas/_libs/index.pyx\u001b[0m in \u001b[0;36mpandas._libs.index.IndexEngine.get_loc\u001b[1;34m()\u001b[0m\n",
      "\u001b[1;32mpandas/_libs/hashtable_class_helper.pxi\u001b[0m in \u001b[0;36mpandas._libs.hashtable.PyObjectHashTable.get_item\u001b[1;34m()\u001b[0m\n",
      "\u001b[1;32mpandas/_libs/hashtable_class_helper.pxi\u001b[0m in \u001b[0;36mpandas._libs.hashtable.PyObjectHashTable.get_item\u001b[1;34m()\u001b[0m\n",
      "\u001b[1;31mKeyError\u001b[0m: 'Location'",
      "\nDuring handling of the above exception, another exception occurred:\n",
      "\u001b[1;31mKeyError\u001b[0m                                  Traceback (most recent call last)",
      "\u001b[1;32m<ipython-input-83-850739d4d488>\u001b[0m in \u001b[0;36m<module>\u001b[1;34m\u001b[0m\n\u001b[0;32m      5\u001b[0m \u001b[0mle\u001b[0m \u001b[1;33m=\u001b[0m \u001b[0mLabelEncoder\u001b[0m\u001b[1;33m(\u001b[0m\u001b[1;33m)\u001b[0m\u001b[1;33m\u001b[0m\u001b[1;33m\u001b[0m\u001b[0m\n\u001b[0;32m      6\u001b[0m \u001b[1;33m\u001b[0m\u001b[0m\n\u001b[1;32m----> 7\u001b[1;33m \u001b[0mdataset_filtered\u001b[0m\u001b[1;33m[\u001b[0m\u001b[1;34m'Location'\u001b[0m\u001b[1;33m]\u001b[0m\u001b[1;33m=\u001b[0m \u001b[0mle\u001b[0m\u001b[1;33m.\u001b[0m\u001b[0mfit_transform\u001b[0m\u001b[1;33m(\u001b[0m\u001b[0mdataset_filtered\u001b[0m\u001b[1;33m[\u001b[0m\u001b[1;34m'Location'\u001b[0m\u001b[1;33m]\u001b[0m\u001b[1;33m)\u001b[0m\u001b[1;33m\u001b[0m\u001b[1;33m\u001b[0m\u001b[0m\n\u001b[0m\u001b[0;32m      8\u001b[0m \u001b[0mdataset_filtered\u001b[0m\u001b[1;33m[\u001b[0m\u001b[1;34m'Level'\u001b[0m\u001b[1;33m]\u001b[0m\u001b[1;33m=\u001b[0m \u001b[0mle\u001b[0m\u001b[1;33m.\u001b[0m\u001b[0mfit_transform\u001b[0m\u001b[1;33m(\u001b[0m\u001b[0mdataset_filtered\u001b[0m\u001b[1;33m[\u001b[0m\u001b[1;34m'Level'\u001b[0m\u001b[1;33m]\u001b[0m\u001b[1;33m)\u001b[0m\u001b[1;33m\u001b[0m\u001b[1;33m\u001b[0m\u001b[0m\n\u001b[0;32m      9\u001b[0m \u001b[0mprint\u001b[0m\u001b[1;33m(\u001b[0m\u001b[0mdataset_filtered\u001b[0m\u001b[1;33m.\u001b[0m\u001b[0mhead\u001b[0m\u001b[1;33m(\u001b[0m\u001b[1;33m)\u001b[0m\u001b[1;33m)\u001b[0m\u001b[1;33m\u001b[0m\u001b[1;33m\u001b[0m\u001b[0m\n",
      "\u001b[1;32mF:\\anaconda\\lib\\site-packages\\pandas\\core\\frame.py\u001b[0m in \u001b[0;36m__getitem__\u001b[1;34m(self, key)\u001b[0m\n\u001b[0;32m   2925\u001b[0m             \u001b[1;32mif\u001b[0m \u001b[0mself\u001b[0m\u001b[1;33m.\u001b[0m\u001b[0mcolumns\u001b[0m\u001b[1;33m.\u001b[0m\u001b[0mnlevels\u001b[0m \u001b[1;33m>\u001b[0m \u001b[1;36m1\u001b[0m\u001b[1;33m:\u001b[0m\u001b[1;33m\u001b[0m\u001b[1;33m\u001b[0m\u001b[0m\n\u001b[0;32m   2926\u001b[0m                 \u001b[1;32mreturn\u001b[0m \u001b[0mself\u001b[0m\u001b[1;33m.\u001b[0m\u001b[0m_getitem_multilevel\u001b[0m\u001b[1;33m(\u001b[0m\u001b[0mkey\u001b[0m\u001b[1;33m)\u001b[0m\u001b[1;33m\u001b[0m\u001b[1;33m\u001b[0m\u001b[0m\n\u001b[1;32m-> 2927\u001b[1;33m             \u001b[0mindexer\u001b[0m \u001b[1;33m=\u001b[0m \u001b[0mself\u001b[0m\u001b[1;33m.\u001b[0m\u001b[0mcolumns\u001b[0m\u001b[1;33m.\u001b[0m\u001b[0mget_loc\u001b[0m\u001b[1;33m(\u001b[0m\u001b[0mkey\u001b[0m\u001b[1;33m)\u001b[0m\u001b[1;33m\u001b[0m\u001b[1;33m\u001b[0m\u001b[0m\n\u001b[0m\u001b[0;32m   2928\u001b[0m             \u001b[1;32mif\u001b[0m \u001b[0mis_integer\u001b[0m\u001b[1;33m(\u001b[0m\u001b[0mindexer\u001b[0m\u001b[1;33m)\u001b[0m\u001b[1;33m:\u001b[0m\u001b[1;33m\u001b[0m\u001b[1;33m\u001b[0m\u001b[0m\n\u001b[0;32m   2929\u001b[0m                 \u001b[0mindexer\u001b[0m \u001b[1;33m=\u001b[0m \u001b[1;33m[\u001b[0m\u001b[0mindexer\u001b[0m\u001b[1;33m]\u001b[0m\u001b[1;33m\u001b[0m\u001b[1;33m\u001b[0m\u001b[0m\n",
      "\u001b[1;32mF:\\anaconda\\lib\\site-packages\\pandas\\core\\indexes\\base.py\u001b[0m in \u001b[0;36mget_loc\u001b[1;34m(self, key, method, tolerance)\u001b[0m\n\u001b[0;32m   2657\u001b[0m                 \u001b[1;32mreturn\u001b[0m \u001b[0mself\u001b[0m\u001b[1;33m.\u001b[0m\u001b[0m_engine\u001b[0m\u001b[1;33m.\u001b[0m\u001b[0mget_loc\u001b[0m\u001b[1;33m(\u001b[0m\u001b[0mkey\u001b[0m\u001b[1;33m)\u001b[0m\u001b[1;33m\u001b[0m\u001b[1;33m\u001b[0m\u001b[0m\n\u001b[0;32m   2658\u001b[0m             \u001b[1;32mexcept\u001b[0m \u001b[0mKeyError\u001b[0m\u001b[1;33m:\u001b[0m\u001b[1;33m\u001b[0m\u001b[1;33m\u001b[0m\u001b[0m\n\u001b[1;32m-> 2659\u001b[1;33m                 \u001b[1;32mreturn\u001b[0m \u001b[0mself\u001b[0m\u001b[1;33m.\u001b[0m\u001b[0m_engine\u001b[0m\u001b[1;33m.\u001b[0m\u001b[0mget_loc\u001b[0m\u001b[1;33m(\u001b[0m\u001b[0mself\u001b[0m\u001b[1;33m.\u001b[0m\u001b[0m_maybe_cast_indexer\u001b[0m\u001b[1;33m(\u001b[0m\u001b[0mkey\u001b[0m\u001b[1;33m)\u001b[0m\u001b[1;33m)\u001b[0m\u001b[1;33m\u001b[0m\u001b[1;33m\u001b[0m\u001b[0m\n\u001b[0m\u001b[0;32m   2660\u001b[0m         \u001b[0mindexer\u001b[0m \u001b[1;33m=\u001b[0m \u001b[0mself\u001b[0m\u001b[1;33m.\u001b[0m\u001b[0mget_indexer\u001b[0m\u001b[1;33m(\u001b[0m\u001b[1;33m[\u001b[0m\u001b[0mkey\u001b[0m\u001b[1;33m]\u001b[0m\u001b[1;33m,\u001b[0m \u001b[0mmethod\u001b[0m\u001b[1;33m=\u001b[0m\u001b[0mmethod\u001b[0m\u001b[1;33m,\u001b[0m \u001b[0mtolerance\u001b[0m\u001b[1;33m=\u001b[0m\u001b[0mtolerance\u001b[0m\u001b[1;33m)\u001b[0m\u001b[1;33m\u001b[0m\u001b[1;33m\u001b[0m\u001b[0m\n\u001b[0;32m   2661\u001b[0m         \u001b[1;32mif\u001b[0m \u001b[0mindexer\u001b[0m\u001b[1;33m.\u001b[0m\u001b[0mndim\u001b[0m \u001b[1;33m>\u001b[0m \u001b[1;36m1\u001b[0m \u001b[1;32mor\u001b[0m \u001b[0mindexer\u001b[0m\u001b[1;33m.\u001b[0m\u001b[0msize\u001b[0m \u001b[1;33m>\u001b[0m \u001b[1;36m1\u001b[0m\u001b[1;33m:\u001b[0m\u001b[1;33m\u001b[0m\u001b[1;33m\u001b[0m\u001b[0m\n",
      "\u001b[1;32mpandas/_libs/index.pyx\u001b[0m in \u001b[0;36mpandas._libs.index.IndexEngine.get_loc\u001b[1;34m()\u001b[0m\n",
      "\u001b[1;32mpandas/_libs/index.pyx\u001b[0m in \u001b[0;36mpandas._libs.index.IndexEngine.get_loc\u001b[1;34m()\u001b[0m\n",
      "\u001b[1;32mpandas/_libs/hashtable_class_helper.pxi\u001b[0m in \u001b[0;36mpandas._libs.hashtable.PyObjectHashTable.get_item\u001b[1;34m()\u001b[0m\n",
      "\u001b[1;32mpandas/_libs/hashtable_class_helper.pxi\u001b[0m in \u001b[0;36mpandas._libs.hashtable.PyObjectHashTable.get_item\u001b[1;34m()\u001b[0m\n",
      "\u001b[1;31mKeyError\u001b[0m: 'Location'"
     ]
    }
   ],
   "source": [
    "from sklearn import linear_model\n",
    "reg5=linear_model.LinearRegression()\n",
    "from sklearn.preprocessing import LabelEncoder \n",
    "  \n",
    "le = LabelEncoder() \n",
    "  \n",
    "dataset_filtered['Location']= le.fit_transform(dataset_filtered['Location']) \n",
    "dataset_filtered['Level']= le.fit_transform(dataset_filtered['Level']) \n",
    "print(dataset_filtered.head())\n",
    "x=dataset_filtered[['Location','Level','Year']]\n",
    "\n",
    "print(x)\n",
    "reg5.fit(x,dataset_filtered.Detected_Cases)\n",
    "(reg5.predict([(0,5,2018)]))\n",
    "\n",
    "\n",
    "\n",
    "    "
   ]
  },
  {
   "cell_type": "code",
   "execution_count": 90,
   "metadata": {},
   "outputs": [
    {
     "name": "stdout",
     "output_type": "stream",
     "text": [
      "[-0.07210714285713493, 0.040607142857155054, 0.15332142857143083, 0.2660357142857208]\n"
     ]
    }
   ],
   "source": [
    "x=[]\n",
    "for anti in range(0,4):\n",
    "    \n",
    "    x.append(Efficiency.predict([(anti,2030)])[0])\n",
    "\n",
    "print (x)    "
   ]
  },
  {
   "cell_type": "code",
   "execution_count": 52,
   "metadata": {},
   "outputs": [
    {
     "ename": "KeyError",
     "evalue": "'label'",
     "output_type": "error",
     "traceback": [
      "\u001b[1;31m---------------------------------------------------------------------------\u001b[0m",
      "\u001b[1;31mKeyError\u001b[0m                                  Traceback (most recent call last)",
      "\u001b[1;32mF:\\anaconda\\lib\\site-packages\\pandas\\core\\indexes\\base.py\u001b[0m in \u001b[0;36mget_loc\u001b[1;34m(self, key, method, tolerance)\u001b[0m\n\u001b[0;32m   2656\u001b[0m             \u001b[1;32mtry\u001b[0m\u001b[1;33m:\u001b[0m\u001b[1;33m\u001b[0m\u001b[1;33m\u001b[0m\u001b[0m\n\u001b[1;32m-> 2657\u001b[1;33m                 \u001b[1;32mreturn\u001b[0m \u001b[0mself\u001b[0m\u001b[1;33m.\u001b[0m\u001b[0m_engine\u001b[0m\u001b[1;33m.\u001b[0m\u001b[0mget_loc\u001b[0m\u001b[1;33m(\u001b[0m\u001b[0mkey\u001b[0m\u001b[1;33m)\u001b[0m\u001b[1;33m\u001b[0m\u001b[1;33m\u001b[0m\u001b[0m\n\u001b[0m\u001b[0;32m   2658\u001b[0m             \u001b[1;32mexcept\u001b[0m \u001b[0mKeyError\u001b[0m\u001b[1;33m:\u001b[0m\u001b[1;33m\u001b[0m\u001b[1;33m\u001b[0m\u001b[0m\n",
      "\u001b[1;32mpandas/_libs/index.pyx\u001b[0m in \u001b[0;36mpandas._libs.index.IndexEngine.get_loc\u001b[1;34m()\u001b[0m\n",
      "\u001b[1;32mpandas/_libs/index.pyx\u001b[0m in \u001b[0;36mpandas._libs.index.IndexEngine.get_loc\u001b[1;34m()\u001b[0m\n",
      "\u001b[1;32mpandas/_libs/hashtable_class_helper.pxi\u001b[0m in \u001b[0;36mpandas._libs.hashtable.PyObjectHashTable.get_item\u001b[1;34m()\u001b[0m\n",
      "\u001b[1;32mpandas/_libs/hashtable_class_helper.pxi\u001b[0m in \u001b[0;36mpandas._libs.hashtable.PyObjectHashTable.get_item\u001b[1;34m()\u001b[0m\n",
      "\u001b[1;31mKeyError\u001b[0m: 'label'",
      "\nDuring handling of the above exception, another exception occurred:\n",
      "\u001b[1;31mKeyError\u001b[0m                                  Traceback (most recent call last)",
      "\u001b[1;32m<ipython-input-52-1ab44f1c0466>\u001b[0m in \u001b[0;36m<module>\u001b[1;34m\u001b[0m\n\u001b[0;32m      1\u001b[0m \u001b[0mX\u001b[0m \u001b[1;33m=\u001b[0m \u001b[0mdataset_filtered\u001b[0m\u001b[1;33m[\u001b[0m\u001b[1;33m[\u001b[0m\u001b[1;34m'Year'\u001b[0m\u001b[1;33m]\u001b[0m\u001b[1;33m]\u001b[0m\u001b[1;33m\u001b[0m\u001b[1;33m\u001b[0m\u001b[0m\n\u001b[0;32m      2\u001b[0m \u001b[1;31m# y.shape should be (N, 1)\u001b[0m\u001b[1;33m\u001b[0m\u001b[1;33m\u001b[0m\u001b[1;33m\u001b[0m\u001b[0m\n\u001b[1;32m----> 3\u001b[1;33m \u001b[0my\u001b[0m \u001b[1;33m=\u001b[0m\u001b[0mdataset_filtered\u001b[0m\u001b[1;33m[\u001b[0m\u001b[1;34m'label'\u001b[0m\u001b[1;33m]\u001b[0m\u001b[1;33m\u001b[0m\u001b[1;33m\u001b[0m\u001b[0m\n\u001b[0m\u001b[0;32m      4\u001b[0m \u001b[1;31m# perform label encoding if \"label\" contains strings\u001b[0m\u001b[1;33m\u001b[0m\u001b[1;33m\u001b[0m\u001b[1;33m\u001b[0m\u001b[0m\n\u001b[0;32m      5\u001b[0m \u001b[1;31m# y = pd.factorize(mydata['label'])[0].reshape(-1, 1)\u001b[0m\u001b[1;33m\u001b[0m\u001b[1;33m\u001b[0m\u001b[1;33m\u001b[0m\u001b[0m\n",
      "\u001b[1;32mF:\\anaconda\\lib\\site-packages\\pandas\\core\\frame.py\u001b[0m in \u001b[0;36m__getitem__\u001b[1;34m(self, key)\u001b[0m\n\u001b[0;32m   2925\u001b[0m             \u001b[1;32mif\u001b[0m \u001b[0mself\u001b[0m\u001b[1;33m.\u001b[0m\u001b[0mcolumns\u001b[0m\u001b[1;33m.\u001b[0m\u001b[0mnlevels\u001b[0m \u001b[1;33m>\u001b[0m \u001b[1;36m1\u001b[0m\u001b[1;33m:\u001b[0m\u001b[1;33m\u001b[0m\u001b[1;33m\u001b[0m\u001b[0m\n\u001b[0;32m   2926\u001b[0m                 \u001b[1;32mreturn\u001b[0m \u001b[0mself\u001b[0m\u001b[1;33m.\u001b[0m\u001b[0m_getitem_multilevel\u001b[0m\u001b[1;33m(\u001b[0m\u001b[0mkey\u001b[0m\u001b[1;33m)\u001b[0m\u001b[1;33m\u001b[0m\u001b[1;33m\u001b[0m\u001b[0m\n\u001b[1;32m-> 2927\u001b[1;33m             \u001b[0mindexer\u001b[0m \u001b[1;33m=\u001b[0m \u001b[0mself\u001b[0m\u001b[1;33m.\u001b[0m\u001b[0mcolumns\u001b[0m\u001b[1;33m.\u001b[0m\u001b[0mget_loc\u001b[0m\u001b[1;33m(\u001b[0m\u001b[0mkey\u001b[0m\u001b[1;33m)\u001b[0m\u001b[1;33m\u001b[0m\u001b[1;33m\u001b[0m\u001b[0m\n\u001b[0m\u001b[0;32m   2928\u001b[0m             \u001b[1;32mif\u001b[0m \u001b[0mis_integer\u001b[0m\u001b[1;33m(\u001b[0m\u001b[0mindexer\u001b[0m\u001b[1;33m)\u001b[0m\u001b[1;33m:\u001b[0m\u001b[1;33m\u001b[0m\u001b[1;33m\u001b[0m\u001b[0m\n\u001b[0;32m   2929\u001b[0m                 \u001b[0mindexer\u001b[0m \u001b[1;33m=\u001b[0m \u001b[1;33m[\u001b[0m\u001b[0mindexer\u001b[0m\u001b[1;33m]\u001b[0m\u001b[1;33m\u001b[0m\u001b[1;33m\u001b[0m\u001b[0m\n",
      "\u001b[1;32mF:\\anaconda\\lib\\site-packages\\pandas\\core\\indexes\\base.py\u001b[0m in \u001b[0;36mget_loc\u001b[1;34m(self, key, method, tolerance)\u001b[0m\n\u001b[0;32m   2657\u001b[0m                 \u001b[1;32mreturn\u001b[0m \u001b[0mself\u001b[0m\u001b[1;33m.\u001b[0m\u001b[0m_engine\u001b[0m\u001b[1;33m.\u001b[0m\u001b[0mget_loc\u001b[0m\u001b[1;33m(\u001b[0m\u001b[0mkey\u001b[0m\u001b[1;33m)\u001b[0m\u001b[1;33m\u001b[0m\u001b[1;33m\u001b[0m\u001b[0m\n\u001b[0;32m   2658\u001b[0m             \u001b[1;32mexcept\u001b[0m \u001b[0mKeyError\u001b[0m\u001b[1;33m:\u001b[0m\u001b[1;33m\u001b[0m\u001b[1;33m\u001b[0m\u001b[0m\n\u001b[1;32m-> 2659\u001b[1;33m                 \u001b[1;32mreturn\u001b[0m \u001b[0mself\u001b[0m\u001b[1;33m.\u001b[0m\u001b[0m_engine\u001b[0m\u001b[1;33m.\u001b[0m\u001b[0mget_loc\u001b[0m\u001b[1;33m(\u001b[0m\u001b[0mself\u001b[0m\u001b[1;33m.\u001b[0m\u001b[0m_maybe_cast_indexer\u001b[0m\u001b[1;33m(\u001b[0m\u001b[0mkey\u001b[0m\u001b[1;33m)\u001b[0m\u001b[1;33m)\u001b[0m\u001b[1;33m\u001b[0m\u001b[1;33m\u001b[0m\u001b[0m\n\u001b[0m\u001b[0;32m   2660\u001b[0m         \u001b[0mindexer\u001b[0m \u001b[1;33m=\u001b[0m \u001b[0mself\u001b[0m\u001b[1;33m.\u001b[0m\u001b[0mget_indexer\u001b[0m\u001b[1;33m(\u001b[0m\u001b[1;33m[\u001b[0m\u001b[0mkey\u001b[0m\u001b[1;33m]\u001b[0m\u001b[1;33m,\u001b[0m \u001b[0mmethod\u001b[0m\u001b[1;33m=\u001b[0m\u001b[0mmethod\u001b[0m\u001b[1;33m,\u001b[0m \u001b[0mtolerance\u001b[0m\u001b[1;33m=\u001b[0m\u001b[0mtolerance\u001b[0m\u001b[1;33m)\u001b[0m\u001b[1;33m\u001b[0m\u001b[1;33m\u001b[0m\u001b[0m\n\u001b[0;32m   2661\u001b[0m         \u001b[1;32mif\u001b[0m \u001b[0mindexer\u001b[0m\u001b[1;33m.\u001b[0m\u001b[0mndim\u001b[0m \u001b[1;33m>\u001b[0m \u001b[1;36m1\u001b[0m \u001b[1;32mor\u001b[0m \u001b[0mindexer\u001b[0m\u001b[1;33m.\u001b[0m\u001b[0msize\u001b[0m \u001b[1;33m>\u001b[0m \u001b[1;36m1\u001b[0m\u001b[1;33m:\u001b[0m\u001b[1;33m\u001b[0m\u001b[1;33m\u001b[0m\u001b[0m\n",
      "\u001b[1;32mpandas/_libs/index.pyx\u001b[0m in \u001b[0;36mpandas._libs.index.IndexEngine.get_loc\u001b[1;34m()\u001b[0m\n",
      "\u001b[1;32mpandas/_libs/index.pyx\u001b[0m in \u001b[0;36mpandas._libs.index.IndexEngine.get_loc\u001b[1;34m()\u001b[0m\n",
      "\u001b[1;32mpandas/_libs/hashtable_class_helper.pxi\u001b[0m in \u001b[0;36mpandas._libs.hashtable.PyObjectHashTable.get_item\u001b[1;34m()\u001b[0m\n",
      "\u001b[1;32mpandas/_libs/hashtable_class_helper.pxi\u001b[0m in \u001b[0;36mpandas._libs.hashtable.PyObjectHashTable.get_item\u001b[1;34m()\u001b[0m\n",
      "\u001b[1;31mKeyError\u001b[0m: 'label'"
     ]
    }
   ],
   "source": [
    "X = dataset_filtered[['Year']]\n",
    "# y.shape should be (N, 1)\n",
    "y =dataset_filtered['label'] \n",
    "# perform label encoding if \"label\" contains strings\n",
    "# y = pd.factorize(mydata['label'])[0].reshape(-1, 1) \n",
    "X_train, X_test, y_train, y_test = train_test_split(\n",
    "                      X, y, test_size=0.33, random_state=42)\n",
    "...\n",
    "\n",
    "clf.fit(X_train, y_train) \n",
    "print(clf.score(X_test, y_test))"
   ]
  }
 ],
 "metadata": {
  "kernelspec": {
   "display_name": "Python 3",
   "language": "python",
   "name": "python3"
  },
  "language_info": {
   "codemirror_mode": {
    "name": "ipython",
    "version": 3
   },
   "file_extension": ".py",
   "mimetype": "text/x-python",
   "name": "python",
   "nbconvert_exporter": "python",
   "pygments_lexer": "ipython3",
   "version": "3.7.3"
  }
 },
 "nbformat": 4,
 "nbformat_minor": 2
}
